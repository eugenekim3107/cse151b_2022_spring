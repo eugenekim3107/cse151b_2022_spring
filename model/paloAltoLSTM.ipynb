{
 "cells": [
  {
   "cell_type": "code",
   "execution_count": 1,
   "id": "1d64c916",
   "metadata": {},
   "outputs": [],
   "source": [
    "import torch\n",
    "from torch.utils.data import Dataset, DataLoader\n",
    "import os, os.path \n",
    "import numpy \n",
    "import pickle\n",
    "import matplotlib.pyplot as plt\n",
    "from glob import glob\n",
    "import torch.autograd as autograd\n",
    "import torch.nn as nn\n",
    "import torch.nn.functional as F\n",
    "import torch.optim as optim\n",
    "from torch.autograd import Variable\n",
    "from timeit import default_timer as timer"
   ]
  },
  {
   "cell_type": "code",
   "execution_count": 2,
   "id": "7a737e5f",
   "metadata": {},
   "outputs": [],
   "source": [
    "from glob import glob\n",
    "import pickle\n",
    "import numpy as np\n",
    "from sklearn.preprocessing import MinMaxScaler\n",
    "\n",
    "ROOT_PATH = \"./argo2/\"\n",
    "\n",
    "cities = [\"austin\", \"miami\", \"pittsburgh\", \"dearborn\", \"washington-dc\", \"palo-alto\"]\n",
    "splits = [\"train\", \"test\"]\n",
    "#sc = MinMaxScaler()\n",
    "\n",
    "def get_city_trajectories(city=\"palo-alto\", split=\"train\", normalized=False):\n",
    "    \n",
    "    outputs = None\n",
    "    \n",
    "    if split==\"train\":\n",
    "        f_in = ROOT_PATH + split + \"/\" + city + \"_inputs\"\n",
    "        inputs = pickle.load(open(f_in, \"rb\"))\n",
    "        n = len(inputs)\n",
    "        inputs = np.asarray(inputs)[:int(n * 0.8)]\n",
    "        \n",
    "        f_out = ROOT_PATH + split + \"/\" + city + \"_outputs\"\n",
    "        outputs = pickle.load(open(f_out, \"rb\"))\n",
    "        outputs = np.asarray(outputs)[:int(n * 0.8)]\n",
    "        \n",
    "#         full_data = np.concatenate((inputs, outputs), axis=1)\n",
    "#         full_data = full_data.reshape((-1,110))\n",
    "#         full_data = sc.fit_transform(full_data)\n",
    "#         full_data = full_data.reshape((-1,110,2))\n",
    "#         full_data = np.split(full_data, [50,110], axis=1)\n",
    "        \n",
    "        inputs = Variable(torch.tensor(inputs, dtype=torch.float32))\n",
    "        outputs = Variable(torch.tensor(outputs, dtype=torch.float32))\n",
    "        \n",
    "    elif split == 'val':\n",
    "        f_in = ROOT_PATH + 'train' + \"/\" + city + \"_inputs\"\n",
    "        inputs = pickle.load(open(f_in, \"rb\"))\n",
    "        n = len(inputs)\n",
    "        inputs = np.asarray(inputs)[int(n * 0.8):]\n",
    "        \n",
    "        f_out = ROOT_PATH + 'train' + \"/\" + city + \"_outputs\"\n",
    "        outputs = pickle.load(open(f_out, \"rb\"))\n",
    "        outputs = np.asarray(outputs)[int(n * 0.8):]\n",
    "        \n",
    "#         full_data = np.concatenate((inputs, outputs), axis=1)\n",
    "#         full_data = full_data.reshape((-1,110))\n",
    "#         full_data = sc.fit_transform(full_data)\n",
    "#         full_data = full_data.reshape((-1,110,2))\n",
    "#         full_data = np.split(full_data, [50,110], axis=1)\n",
    "        \n",
    "        inputs = Variable(torch.tensor(inputs, dtype=torch.float32))\n",
    "        outputs = Variable(torch.tensor(outputs, dtype=torch.float32))\n",
    "    \n",
    "    else:\n",
    "        f_in = ROOT_PATH + split + \"/\" + city + \"_inputs\"\n",
    "        inputs = pickle.load(open(f_in, \"rb\"))\n",
    "        n = len(inputs)\n",
    "        inputs = np.asarray(inputs)\n",
    "        \n",
    "#         full_data = np.concatenate((inputs, outputs), axis=1)\n",
    "#         full_data = full_data.reshape((-1,110))\n",
    "#         full_data = sc.fit_transform(full_data)\n",
    "#         full_data = full_data.reshape((-1,110,2))\n",
    "#         full_data = np.split(full_data, [50,110], axis=1)\n",
    "        \n",
    "        inputs = Variable(torch.tensor(inputs, dtype=torch.float32))\n",
    "        outputs = Variable(torch.tensor(outputs, dtype=torch.float32))\n",
    "\n",
    "    return inputs, outputs\n",
    "\n",
    "class ArgoverseDataset(Dataset):\n",
    "    \"\"\"Dataset class for Argoverse\"\"\"\n",
    "    def __init__(self, city: str, split:str, transform=None):\n",
    "        super(ArgoverseDataset, self).__init__()\n",
    "        self.transform = transform\n",
    "\n",
    "        self.inputs, self.outputs = get_city_trajectories(city=city, split=split, normalized=False)\n",
    "\n",
    "    def __len__(self):\n",
    "        return len(self.inputs)\n",
    "\n",
    "    def __getitem__(self, idx):\n",
    "\n",
    "        data = (self.inputs[idx], self.outputs[idx])\n",
    "            \n",
    "        if self.transform:\n",
    "            data = self.transform(data)\n",
    "\n",
    "        return data\n",
    "\n",
    "# intialize a dataset\n",
    "city = 'palo-alto' \n",
    "split = 'train'\n",
    "train_dataset  = ArgoverseDataset(city = city, split = split)"
   ]
  },
  {
   "cell_type": "code",
   "execution_count": 3,
   "id": "c0be8fe2",
   "metadata": {},
   "outputs": [],
   "source": [
    "train_dataset = ArgoverseDataset(city = city, split= 'train')\n",
    "val_dataset = ArgoverseDataset(city = city, split = 'val')"
   ]
  },
  {
   "cell_type": "code",
   "execution_count": 4,
   "id": "bda7f36f",
   "metadata": {},
   "outputs": [],
   "source": [
    "batch_sz = 50  # batch size \n",
    "val_loader = DataLoader(val_dataset,batch_size=batch_sz)\n",
    "train_loader = DataLoader(train_dataset,batch_size=batch_sz)"
   ]
  },
  {
   "cell_type": "code",
   "execution_count": 5,
   "id": "137ae469",
   "metadata": {},
   "outputs": [],
   "source": [
    "class LSTM(nn.Module):\n",
    "\n",
    "    def __init__(self, num_classes, input_size, hidden_size, num_layers):\n",
    "        super(LSTM, self).__init__()\n",
    "        \n",
    "        self.num_classes = num_classes\n",
    "        self.num_layers = num_layers\n",
    "        self.input_size = input_size\n",
    "        self.hidden_size = hidden_size\n",
    "        self.seq_length = seq_length\n",
    "        \n",
    "        self.lstm = nn.LSTM(input_size=input_size, hidden_size=hidden_size,\n",
    "                            num_layers=num_layers, batch_first=True)\n",
    "        \n",
    "        self.hidden2label = nn.Sequential(\n",
    "            nn.Linear(hidden_size, int(hidden_size/2)),\n",
    "            nn.ReLU(True),\n",
    "            nn.Linear(int(hidden_size/2), int(hidden_size/2)),\n",
    "            nn.ReLU(True),\n",
    "            nn.Linear(int(hidden_size/2), int(hidden_size/2)),\n",
    "            nn.ReLU(True),\n",
    "            nn.Linear(int(hidden_size/2), num_classes),\n",
    "        )\n",
    "        \n",
    "    def forward(self, x):  \n",
    "        \n",
    "        h_0 = Variable(torch.zeros(\n",
    "            self.num_layers, x.size(0), self.hidden_size))\n",
    "        \n",
    "        c_0 = Variable(torch.zeros(\n",
    "            self.num_layers, x.size(0), self.hidden_size))\n",
    "        \n",
    "        ula, (h_out, _) = self.lstm(x, (h_0, c_0))\n",
    "        \n",
    "        y  = self.hidden2label(h_out)\n",
    "        \n",
    "        return y.reshape(-1, 120)"
   ]
  },
  {
   "cell_type": "code",
   "execution_count": null,
   "id": "040d0f96",
   "metadata": {},
   "outputs": [],
   "source": [
    "seq_length = 100\n",
    "num_epochs = 25\n",
    "learning_rate = 0.0001\n",
    "\n",
    "input_size = 1\n",
    "hidden_size = 200\n",
    "num_layers = 1\n",
    "\n",
    "num_classes = 120\n",
    "\n",
    "lstm = LSTM(num_classes, input_size, hidden_size, num_layers)\n",
    "\n",
    "criterion = torch.nn.MSELoss()    # mean-squared error for regression\n",
    "optimizer = torch.optim.Adam(lstm.parameters(), lr=learning_rate)"
   ]
  },
  {
   "cell_type": "code",
   "execution_count": null,
   "id": "eaa69f32",
   "metadata": {
    "scrolled": true
   },
   "outputs": [
    {
     "name": "stdout",
     "output_type": "stream",
     "text": [
      "epoch 0 loss: 48.32448263130562 time: 141.94755885750055\n",
      "epoch 1 loss: 38.44589919837187 time: 138.40246231202036\n",
      "epoch 2 loss: 62.760767138498835 time: 142.60437182430178\n",
      "epoch 3 loss: 46.50306009177692 time: 142.19242187775671\n",
      "epoch 4 loss: 39.04497122988245 time: 142.01596861798316\n",
      "epoch 5 loss: 36.80801884005262 time: 140.11467927135527\n",
      "epoch 6 loss: 36.56920723818679 time: 141.69602067768574\n",
      "epoch 7 loss: 60.7427567288556 time: 141.12100706342608\n"
     ]
    }
   ],
   "source": [
    "for epoch in range(num_epochs):\n",
    "    total_loss = 0\n",
    "    start = timer()\n",
    "    for i_batch, sample_batch in enumerate(train_loader):\n",
    "        inp, out = sample_batch\n",
    "        inp = inp.reshape(-1, 100, 1)\n",
    "        out = out.reshape(-1, 120)\n",
    "        output = lstm(inp)\n",
    "        optimizer.zero_grad()\n",
    "        loss = criterion(output, out)\n",
    "        loss.backward()\n",
    "        optimizer.step()\n",
    "        total_loss+=loss.item()\n",
    "    end = timer()\n",
    "    time = end - start\n",
    "    print('epoch {} loss: {} time: {}'.format(epoch, total_loss / len(train_dataset), time))"
   ]
  },
  {
   "cell_type": "code",
   "execution_count": null,
   "id": "d4cd519e",
   "metadata": {},
   "outputs": [],
   "source": [
    "torch.save(lstm.state_dict(), \"lstm2.pth\")"
   ]
  },
  {
   "cell_type": "code",
   "execution_count": 8,
   "id": "5370ebc7",
   "metadata": {},
   "outputs": [],
   "source": [
    "def create_random_plot():\n",
    "    for i_batch, sample_batch in enumerate(train_loader):\n",
    "        rand = np.random.randint(batch_sz, size=1)\n",
    "        inp, out = sample_batch\n",
    "        inp_edit = inp.reshape(-1, 100, 1)\n",
    "        preds = lstm(inp_edit)\n",
    "        preds = preds.detach().numpy().reshape(50,60,2)\n",
    "        plt.scatter(x=inp[rand,:,0],y=inp[rand,:,1], color=\"red\", alpha=0.5, label=\"Input Points\")\n",
    "        plt.scatter(x=out[rand,:,0],y=out[rand,:,1], color=\"blue\", alpha=0.5, label=\"Ground Truth\")\n",
    "        plt.scatter(x=preds[rand,:,0],y=preds[rand,:,1], color=\"green\", alpha=0.5, label=\"Predictions\")\n",
    "        plt.legend()\n",
    "        plt.show()\n",
    "        break"
   ]
  },
  {
   "cell_type": "code",
   "execution_count": 13,
   "id": "9f8d6951",
   "metadata": {},
   "outputs": [
    {
     "data": {
      "image/png": "[encoded data removed]",
      "text/plain": [
       "<Figure size 432x288 with 1 Axes>"
      ]
     },
     "metadata": {
      "needs_background": "light"
     },
     "output_type": "display_data"
    }
   ],
   "source": [
    "create_random_plot()"
   ]
  },
  {
   "cell_type": "code",
   "execution_count": null,
   "id": "c52d399c",
   "metadata": {},
   "outputs": [],
   "source": []
  },
  {
   "cell_type": "code",
   "execution_count": null,
   "id": "ea8c10e7",
   "metadata": {},
   "outputs": [],
   "source": []
  }
 ],
 "metadata": {
  "kernelspec": {
   "display_name": "Python 3 (clean)",
   "language": "python",
   "name": "python3_clean"
  },
  "language_info": {
   "codemirror_mode": {
    "name": "ipython",
    "version": 3
   },
   "file_extension": ".py",
   "mimetype": "text/x-python",
   "name": "python",
   "nbconvert_exporter": "python",
   "pygments_lexer": "ipython3",
   "version": "3.9.5"
  }
 },
 "nbformat": 4,
 "nbformat_minor": 5
}
